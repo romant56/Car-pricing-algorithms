{
 "cells": [
  {
   "cell_type": "code",
   "execution_count": 1,
   "id": "de30f1c3-0a93-47db-a054-3aa71d3593b7",
   "metadata": {},
   "outputs": [],
   "source": [
    "import pandas as pd\n",
    "import numpy as np\n",
    "import matplotlib.pyplot as plt\n",
    "import seaborn as sns\n",
    "\n",
    "from sklearn.linear_model import LinearRegression\n",
    "from sklearn import metrics\n",
    "from sklearn.model_selection import train_test_split, cross_val_score"
   ]
  },
  {
   "cell_type": "code",
   "execution_count": 32,
   "id": "82271809-c6da-4bba-8711-780b9484a144",
   "metadata": {},
   "outputs": [],
   "source": [
    "df = pd.read_csv('../data/cleaned.csv')"
   ]
  },
  {
   "cell_type": "code",
   "execution_count": 3,
   "id": "24788c22-df73-491c-8475-ee4e9c22b2e2",
   "metadata": {},
   "outputs": [],
   "source": [
    "# duplicate dataframe eight times to avoid unexpected single trims only showing up in test data\n",
    "for i in range(0, 3):\n",
    "    df = pd.concat([df, df], ignore_index=True)"
   ]
  },
  {
   "cell_type": "markdown",
   "id": "9e8f8511-e9cc-4c49-9df5-b9a90b8c300d",
   "metadata": {},
   "source": [
    "### Linear regression on everything"
   ]
  },
  {
   "cell_type": "code",
   "execution_count": 13,
   "id": "b484661b-8099-40c6-8dd8-b9801f98b2e2",
   "metadata": {},
   "outputs": [],
   "source": [
    "dummies = pd.get_dummies(df, columns=['manufacturer', 'model', 'trim', 'color'], drop_first=True)\n",
    "\n",
    "X = dummies.drop(columns=['name', 'price'])\n",
    "y = df['price']"
   ]
  },
  {
   "cell_type": "code",
   "execution_count": 132,
   "id": "46eb1eec-4596-430d-9068-6127d4643f38",
   "metadata": {},
   "outputs": [],
   "source": [
    "# playing around\n",
    "dummies2 = pd.get_dummies(df, columns=['manufacturer', 'model', 'color'])\n",
    "\n",
    "X = dummies2.drop(columns=['name', 'trim', 'price'])\n",
    "y = df['price']"
   ]
  },
  {
   "cell_type": "code",
   "execution_count": 14,
   "id": "0a9a1a5d-209f-4d5a-a5b4-3d7b59c5da45",
   "metadata": {},
   "outputs": [
    {
     "data": {
      "text/html": [
       "<style>#sk-container-id-2 {color: black;background-color: white;}#sk-container-id-2 pre{padding: 0;}#sk-container-id-2 div.sk-toggleable {background-color: white;}#sk-container-id-2 label.sk-toggleable__label {cursor: pointer;display: block;width: 100%;margin-bottom: 0;padding: 0.3em;box-sizing: border-box;text-align: center;}#sk-container-id-2 label.sk-toggleable__label-arrow:before {content: \"▸\";float: left;margin-right: 0.25em;color: #696969;}#sk-container-id-2 label.sk-toggleable__label-arrow:hover:before {color: black;}#sk-container-id-2 div.sk-estimator:hover label.sk-toggleable__label-arrow:before {color: black;}#sk-container-id-2 div.sk-toggleable__content {max-height: 0;max-width: 0;overflow: hidden;text-align: left;background-color: #f0f8ff;}#sk-container-id-2 div.sk-toggleable__content pre {margin: 0.2em;color: black;border-radius: 0.25em;background-color: #f0f8ff;}#sk-container-id-2 input.sk-toggleable__control:checked~div.sk-toggleable__content {max-height: 200px;max-width: 100%;overflow: auto;}#sk-container-id-2 input.sk-toggleable__control:checked~label.sk-toggleable__label-arrow:before {content: \"▾\";}#sk-container-id-2 div.sk-estimator input.sk-toggleable__control:checked~label.sk-toggleable__label {background-color: #d4ebff;}#sk-container-id-2 div.sk-label input.sk-toggleable__control:checked~label.sk-toggleable__label {background-color: #d4ebff;}#sk-container-id-2 input.sk-hidden--visually {border: 0;clip: rect(1px 1px 1px 1px);clip: rect(1px, 1px, 1px, 1px);height: 1px;margin: -1px;overflow: hidden;padding: 0;position: absolute;width: 1px;}#sk-container-id-2 div.sk-estimator {font-family: monospace;background-color: #f0f8ff;border: 1px dotted black;border-radius: 0.25em;box-sizing: border-box;margin-bottom: 0.5em;}#sk-container-id-2 div.sk-estimator:hover {background-color: #d4ebff;}#sk-container-id-2 div.sk-parallel-item::after {content: \"\";width: 100%;border-bottom: 1px solid gray;flex-grow: 1;}#sk-container-id-2 div.sk-label:hover label.sk-toggleable__label {background-color: #d4ebff;}#sk-container-id-2 div.sk-serial::before {content: \"\";position: absolute;border-left: 1px solid gray;box-sizing: border-box;top: 0;bottom: 0;left: 50%;z-index: 0;}#sk-container-id-2 div.sk-serial {display: flex;flex-direction: column;align-items: center;background-color: white;padding-right: 0.2em;padding-left: 0.2em;position: relative;}#sk-container-id-2 div.sk-item {position: relative;z-index: 1;}#sk-container-id-2 div.sk-parallel {display: flex;align-items: stretch;justify-content: center;background-color: white;position: relative;}#sk-container-id-2 div.sk-item::before, #sk-container-id-2 div.sk-parallel-item::before {content: \"\";position: absolute;border-left: 1px solid gray;box-sizing: border-box;top: 0;bottom: 0;left: 50%;z-index: -1;}#sk-container-id-2 div.sk-parallel-item {display: flex;flex-direction: column;z-index: 1;position: relative;background-color: white;}#sk-container-id-2 div.sk-parallel-item:first-child::after {align-self: flex-end;width: 50%;}#sk-container-id-2 div.sk-parallel-item:last-child::after {align-self: flex-start;width: 50%;}#sk-container-id-2 div.sk-parallel-item:only-child::after {width: 0;}#sk-container-id-2 div.sk-dashed-wrapped {border: 1px dashed gray;margin: 0 0.4em 0.5em 0.4em;box-sizing: border-box;padding-bottom: 0.4em;background-color: white;}#sk-container-id-2 div.sk-label label {font-family: monospace;font-weight: bold;display: inline-block;line-height: 1.2em;}#sk-container-id-2 div.sk-label-container {text-align: center;}#sk-container-id-2 div.sk-container {/* jupyter's `normalize.less` sets `[hidden] { display: none; }` but bootstrap.min.css set `[hidden] { display: none !important; }` so we also need the `!important` here to be able to override the default hidden behavior on the sphinx rendered scikit-learn.org. See: https://github.com/scikit-learn/scikit-learn/issues/21755 */display: inline-block !important;position: relative;}#sk-container-id-2 div.sk-text-repr-fallback {display: none;}</style><div id=\"sk-container-id-2\" class=\"sk-top-container\"><div class=\"sk-text-repr-fallback\"><pre>LinearRegression()</pre><b>In a Jupyter environment, please rerun this cell to show the HTML representation or trust the notebook. <br />On GitHub, the HTML representation is unable to render, please try loading this page with nbviewer.org.</b></div><div class=\"sk-container\" hidden><div class=\"sk-item\"><div class=\"sk-estimator sk-toggleable\"><input class=\"sk-toggleable__control sk-hidden--visually\" id=\"sk-estimator-id-2\" type=\"checkbox\" checked><label for=\"sk-estimator-id-2\" class=\"sk-toggleable__label sk-toggleable__label-arrow\">LinearRegression</label><div class=\"sk-toggleable__content\"><pre>LinearRegression()</pre></div></div></div></div></div>"
      ],
      "text/plain": [
       "LinearRegression()"
      ]
     },
     "execution_count": 14,
     "metadata": {},
     "output_type": "execute_result"
    }
   ],
   "source": [
    "X_train, X_test, y_train, y_test = train_test_split(X, y)\n",
    "\n",
    "lr = LinearRegression()\n",
    "\n",
    "lr.fit(X_train, y_train)"
   ]
  },
  {
   "cell_type": "code",
   "execution_count": 15,
   "id": "bd04207a-157d-48a4-8dc8-ad5b94be4e84",
   "metadata": {},
   "outputs": [
    {
     "data": {
      "text/plain": [
       "0.9603773272225316"
      ]
     },
     "execution_count": 15,
     "metadata": {},
     "output_type": "execute_result"
    }
   ],
   "source": [
    "lr.score(X_train, y_train)"
   ]
  },
  {
   "cell_type": "code",
   "execution_count": 16,
   "id": "ca3d1bc3-53be-4e9d-b6aa-44272ecd3a8b",
   "metadata": {},
   "outputs": [
    {
     "data": {
      "text/plain": [
       "0.9577645044213603"
      ]
     },
     "execution_count": 16,
     "metadata": {},
     "output_type": "execute_result"
    }
   ],
   "source": [
    "lr.score(X_test, y_test)"
   ]
  },
  {
   "cell_type": "code",
   "execution_count": 22,
   "id": "4f9419e2-9f6a-40c9-a7a5-2d1851906074",
   "metadata": {},
   "outputs": [
    {
     "data": {
      "text/plain": [
       "2772.67562437374"
      ]
     },
     "execution_count": 22,
     "metadata": {},
     "output_type": "execute_result"
    }
   ],
   "source": [
    "metrics.mean_squared_error(y, results, squared=False)"
   ]
  },
  {
   "cell_type": "code",
   "execution_count": 17,
   "id": "9dd24b9e-689a-4b85-ad1a-452af6926406",
   "metadata": {},
   "outputs": [
    {
     "data": {
      "text/plain": [
       "array([0.9606678 , 0.95734157, 0.96066282, 0.95981467, 0.96089585])"
      ]
     },
     "execution_count": 17,
     "metadata": {},
     "output_type": "execute_result"
    }
   ],
   "source": [
    "#cross_val_score(lr, X, y)"
   ]
  },
  {
   "cell_type": "code",
   "execution_count": 18,
   "id": "037f09f0-449d-471f-8efd-94c830585168",
   "metadata": {},
   "outputs": [],
   "source": [
    "results = lr.predict(X)"
   ]
  },
  {
   "cell_type": "code",
   "execution_count": 19,
   "id": "aa6b5199-60cf-49c8-8c69-85d566f88a19",
   "metadata": {},
   "outputs": [],
   "source": [
    "df['predicted'] = results"
   ]
  },
  {
   "cell_type": "code",
   "execution_count": 20,
   "id": "c563ac26-14c7-4981-994d-3fcbe49969ed",
   "metadata": {},
   "outputs": [
    {
     "data": {
      "text/html": [
       "<div>\n",
       "<style scoped>\n",
       "    .dataframe tbody tr th:only-of-type {\n",
       "        vertical-align: middle;\n",
       "    }\n",
       "\n",
       "    .dataframe tbody tr th {\n",
       "        vertical-align: top;\n",
       "    }\n",
       "\n",
       "    .dataframe thead th {\n",
       "        text-align: right;\n",
       "    }\n",
       "</style>\n",
       "<table border=\"1\" class=\"dataframe\">\n",
       "  <thead>\n",
       "    <tr style=\"text-align: right;\">\n",
       "      <th></th>\n",
       "      <th>name</th>\n",
       "      <th>year</th>\n",
       "      <th>manufacturer</th>\n",
       "      <th>model</th>\n",
       "      <th>trim</th>\n",
       "      <th>mileage</th>\n",
       "      <th>color</th>\n",
       "      <th>price</th>\n",
       "      <th>predicted</th>\n",
       "    </tr>\n",
       "  </thead>\n",
       "  <tbody>\n",
       "    <tr>\n",
       "      <th>74605</th>\n",
       "      <td>2009 smart fortwo</td>\n",
       "      <td>2009</td>\n",
       "      <td>smart</td>\n",
       "      <td>fortwo</td>\n",
       "      <td>Pure Hatchback</td>\n",
       "      <td>63046</td>\n",
       "      <td>Red</td>\n",
       "      <td>8990</td>\n",
       "      <td>3652.257826</td>\n",
       "    </tr>\n",
       "    <tr>\n",
       "      <th>10651</th>\n",
       "      <td>2009 smart fortwo</td>\n",
       "      <td>2009</td>\n",
       "      <td>smart</td>\n",
       "      <td>fortwo</td>\n",
       "      <td>Pure Hatchback</td>\n",
       "      <td>63046</td>\n",
       "      <td>Red</td>\n",
       "      <td>8990</td>\n",
       "      <td>3652.257826</td>\n",
       "    </tr>\n",
       "    <tr>\n",
       "      <th>85264</th>\n",
       "      <td>2009 smart fortwo</td>\n",
       "      <td>2009</td>\n",
       "      <td>smart</td>\n",
       "      <td>fortwo</td>\n",
       "      <td>Pure Hatchback</td>\n",
       "      <td>63046</td>\n",
       "      <td>Red</td>\n",
       "      <td>8990</td>\n",
       "      <td>3652.257826</td>\n",
       "    </tr>\n",
       "    <tr>\n",
       "      <th>31969</th>\n",
       "      <td>2009 smart fortwo</td>\n",
       "      <td>2009</td>\n",
       "      <td>smart</td>\n",
       "      <td>fortwo</td>\n",
       "      <td>Pure Hatchback</td>\n",
       "      <td>63046</td>\n",
       "      <td>Red</td>\n",
       "      <td>8990</td>\n",
       "      <td>3652.257826</td>\n",
       "    </tr>\n",
       "    <tr>\n",
       "      <th>63946</th>\n",
       "      <td>2009 smart fortwo</td>\n",
       "      <td>2009</td>\n",
       "      <td>smart</td>\n",
       "      <td>fortwo</td>\n",
       "      <td>Pure Hatchback</td>\n",
       "      <td>63046</td>\n",
       "      <td>Red</td>\n",
       "      <td>8990</td>\n",
       "      <td>3652.257826</td>\n",
       "    </tr>\n",
       "    <tr>\n",
       "      <th>...</th>\n",
       "      <td>...</td>\n",
       "      <td>...</td>\n",
       "      <td>...</td>\n",
       "      <td>...</td>\n",
       "      <td>...</td>\n",
       "      <td>...</td>\n",
       "      <td>...</td>\n",
       "      <td>...</td>\n",
       "      <td>...</td>\n",
       "    </tr>\n",
       "    <tr>\n",
       "      <th>1484</th>\n",
       "      <td>2022 Cadillac Escalade ESV</td>\n",
       "      <td>2022</td>\n",
       "      <td>Cadillac</td>\n",
       "      <td>Escalade ESV</td>\n",
       "      <td>Prem Lux Platinum</td>\n",
       "      <td>2390</td>\n",
       "      <td>Black</td>\n",
       "      <td>139990</td>\n",
       "      <td>139990.000001</td>\n",
       "    </tr>\n",
       "    <tr>\n",
       "      <th>33461</th>\n",
       "      <td>2022 Cadillac Escalade ESV</td>\n",
       "      <td>2022</td>\n",
       "      <td>Cadillac</td>\n",
       "      <td>Escalade ESV</td>\n",
       "      <td>Prem Lux Platinum</td>\n",
       "      <td>2390</td>\n",
       "      <td>Black</td>\n",
       "      <td>139990</td>\n",
       "      <td>139990.000001</td>\n",
       "    </tr>\n",
       "    <tr>\n",
       "      <th>65438</th>\n",
       "      <td>2022 Cadillac Escalade ESV</td>\n",
       "      <td>2022</td>\n",
       "      <td>Cadillac</td>\n",
       "      <td>Escalade ESV</td>\n",
       "      <td>Prem Lux Platinum</td>\n",
       "      <td>2390</td>\n",
       "      <td>Black</td>\n",
       "      <td>139990</td>\n",
       "      <td>139990.000001</td>\n",
       "    </tr>\n",
       "    <tr>\n",
       "      <th>54779</th>\n",
       "      <td>2022 Cadillac Escalade ESV</td>\n",
       "      <td>2022</td>\n",
       "      <td>Cadillac</td>\n",
       "      <td>Escalade ESV</td>\n",
       "      <td>Prem Lux Platinum</td>\n",
       "      <td>2390</td>\n",
       "      <td>Black</td>\n",
       "      <td>139990</td>\n",
       "      <td>139990.000001</td>\n",
       "    </tr>\n",
       "    <tr>\n",
       "      <th>12143</th>\n",
       "      <td>2022 Cadillac Escalade ESV</td>\n",
       "      <td>2022</td>\n",
       "      <td>Cadillac</td>\n",
       "      <td>Escalade ESV</td>\n",
       "      <td>Prem Lux Platinum</td>\n",
       "      <td>2390</td>\n",
       "      <td>Black</td>\n",
       "      <td>139990</td>\n",
       "      <td>139990.000001</td>\n",
       "    </tr>\n",
       "  </tbody>\n",
       "</table>\n",
       "<p>85272 rows × 9 columns</p>\n",
       "</div>"
      ],
      "text/plain": [
       "                             name  year manufacturer         model  \\\n",
       "74605           2009 smart fortwo  2009        smart        fortwo   \n",
       "10651           2009 smart fortwo  2009        smart        fortwo   \n",
       "85264           2009 smart fortwo  2009        smart        fortwo   \n",
       "31969           2009 smart fortwo  2009        smart        fortwo   \n",
       "63946           2009 smart fortwo  2009        smart        fortwo   \n",
       "...                           ...   ...          ...           ...   \n",
       "1484   2022 Cadillac Escalade ESV  2022     Cadillac  Escalade ESV   \n",
       "33461  2022 Cadillac Escalade ESV  2022     Cadillac  Escalade ESV   \n",
       "65438  2022 Cadillac Escalade ESV  2022     Cadillac  Escalade ESV   \n",
       "54779  2022 Cadillac Escalade ESV  2022     Cadillac  Escalade ESV   \n",
       "12143  2022 Cadillac Escalade ESV  2022     Cadillac  Escalade ESV   \n",
       "\n",
       "                    trim  mileage  color   price      predicted  \n",
       "74605     Pure Hatchback    63046    Red    8990    3652.257826  \n",
       "10651     Pure Hatchback    63046    Red    8990    3652.257826  \n",
       "85264     Pure Hatchback    63046    Red    8990    3652.257826  \n",
       "31969     Pure Hatchback    63046    Red    8990    3652.257826  \n",
       "63946     Pure Hatchback    63046    Red    8990    3652.257826  \n",
       "...                  ...      ...    ...     ...            ...  \n",
       "1484   Prem Lux Platinum     2390  Black  139990  139990.000001  \n",
       "33461  Prem Lux Platinum     2390  Black  139990  139990.000001  \n",
       "65438  Prem Lux Platinum     2390  Black  139990  139990.000001  \n",
       "54779  Prem Lux Platinum     2390  Black  139990  139990.000001  \n",
       "12143  Prem Lux Platinum     2390  Black  139990  139990.000001  \n",
       "\n",
       "[85272 rows x 9 columns]"
      ]
     },
     "execution_count": 20,
     "metadata": {},
     "output_type": "execute_result"
    }
   ],
   "source": [
    "df.sort_values(by='predicted')"
   ]
  },
  {
   "cell_type": "markdown",
   "id": "d07e9c19-33e6-4ddd-979d-4a75a3949e7a",
   "metadata": {},
   "source": [
    "### Decision tree on everything"
   ]
  },
  {
   "cell_type": "code",
   "execution_count": 23,
   "id": "03a2958d-64f2-46ea-bb71-8eb9443d732f",
   "metadata": {},
   "outputs": [],
   "source": [
    "from sklearn.tree import DecisionTreeRegressor"
   ]
  },
  {
   "cell_type": "code",
   "execution_count": 35,
   "id": "78154690-edbe-4fab-b9b1-e071f719fc12",
   "metadata": {},
   "outputs": [],
   "source": [
    "df = pd.read_csv('../data/cleaned.csv')"
   ]
  },
  {
   "cell_type": "code",
   "execution_count": 36,
   "id": "aa336599-e8eb-479b-870e-a91cea2cd48e",
   "metadata": {},
   "outputs": [],
   "source": [
    "dummies = pd.get_dummies(df, columns=['manufacturer', 'model', 'trim', 'color'], drop_first=True)\n",
    "\n",
    "X = dummies.drop(columns=['name', 'price'])\n",
    "y = df['price']"
   ]
  },
  {
   "cell_type": "code",
   "execution_count": 37,
   "id": "b3b0efd9-5cb5-41cc-a4c8-02d84405e7fd",
   "metadata": {},
   "outputs": [
    {
     "data": {
      "text/html": [
       "<style>#sk-container-id-4 {color: black;background-color: white;}#sk-container-id-4 pre{padding: 0;}#sk-container-id-4 div.sk-toggleable {background-color: white;}#sk-container-id-4 label.sk-toggleable__label {cursor: pointer;display: block;width: 100%;margin-bottom: 0;padding: 0.3em;box-sizing: border-box;text-align: center;}#sk-container-id-4 label.sk-toggleable__label-arrow:before {content: \"▸\";float: left;margin-right: 0.25em;color: #696969;}#sk-container-id-4 label.sk-toggleable__label-arrow:hover:before {color: black;}#sk-container-id-4 div.sk-estimator:hover label.sk-toggleable__label-arrow:before {color: black;}#sk-container-id-4 div.sk-toggleable__content {max-height: 0;max-width: 0;overflow: hidden;text-align: left;background-color: #f0f8ff;}#sk-container-id-4 div.sk-toggleable__content pre {margin: 0.2em;color: black;border-radius: 0.25em;background-color: #f0f8ff;}#sk-container-id-4 input.sk-toggleable__control:checked~div.sk-toggleable__content {max-height: 200px;max-width: 100%;overflow: auto;}#sk-container-id-4 input.sk-toggleable__control:checked~label.sk-toggleable__label-arrow:before {content: \"▾\";}#sk-container-id-4 div.sk-estimator input.sk-toggleable__control:checked~label.sk-toggleable__label {background-color: #d4ebff;}#sk-container-id-4 div.sk-label input.sk-toggleable__control:checked~label.sk-toggleable__label {background-color: #d4ebff;}#sk-container-id-4 input.sk-hidden--visually {border: 0;clip: rect(1px 1px 1px 1px);clip: rect(1px, 1px, 1px, 1px);height: 1px;margin: -1px;overflow: hidden;padding: 0;position: absolute;width: 1px;}#sk-container-id-4 div.sk-estimator {font-family: monospace;background-color: #f0f8ff;border: 1px dotted black;border-radius: 0.25em;box-sizing: border-box;margin-bottom: 0.5em;}#sk-container-id-4 div.sk-estimator:hover {background-color: #d4ebff;}#sk-container-id-4 div.sk-parallel-item::after {content: \"\";width: 100%;border-bottom: 1px solid gray;flex-grow: 1;}#sk-container-id-4 div.sk-label:hover label.sk-toggleable__label {background-color: #d4ebff;}#sk-container-id-4 div.sk-serial::before {content: \"\";position: absolute;border-left: 1px solid gray;box-sizing: border-box;top: 0;bottom: 0;left: 50%;z-index: 0;}#sk-container-id-4 div.sk-serial {display: flex;flex-direction: column;align-items: center;background-color: white;padding-right: 0.2em;padding-left: 0.2em;position: relative;}#sk-container-id-4 div.sk-item {position: relative;z-index: 1;}#sk-container-id-4 div.sk-parallel {display: flex;align-items: stretch;justify-content: center;background-color: white;position: relative;}#sk-container-id-4 div.sk-item::before, #sk-container-id-4 div.sk-parallel-item::before {content: \"\";position: absolute;border-left: 1px solid gray;box-sizing: border-box;top: 0;bottom: 0;left: 50%;z-index: -1;}#sk-container-id-4 div.sk-parallel-item {display: flex;flex-direction: column;z-index: 1;position: relative;background-color: white;}#sk-container-id-4 div.sk-parallel-item:first-child::after {align-self: flex-end;width: 50%;}#sk-container-id-4 div.sk-parallel-item:last-child::after {align-self: flex-start;width: 50%;}#sk-container-id-4 div.sk-parallel-item:only-child::after {width: 0;}#sk-container-id-4 div.sk-dashed-wrapped {border: 1px dashed gray;margin: 0 0.4em 0.5em 0.4em;box-sizing: border-box;padding-bottom: 0.4em;background-color: white;}#sk-container-id-4 div.sk-label label {font-family: monospace;font-weight: bold;display: inline-block;line-height: 1.2em;}#sk-container-id-4 div.sk-label-container {text-align: center;}#sk-container-id-4 div.sk-container {/* jupyter's `normalize.less` sets `[hidden] { display: none; }` but bootstrap.min.css set `[hidden] { display: none !important; }` so we also need the `!important` here to be able to override the default hidden behavior on the sphinx rendered scikit-learn.org. See: https://github.com/scikit-learn/scikit-learn/issues/21755 */display: inline-block !important;position: relative;}#sk-container-id-4 div.sk-text-repr-fallback {display: none;}</style><div id=\"sk-container-id-4\" class=\"sk-top-container\"><div class=\"sk-text-repr-fallback\"><pre>DecisionTreeRegressor()</pre><b>In a Jupyter environment, please rerun this cell to show the HTML representation or trust the notebook. <br />On GitHub, the HTML representation is unable to render, please try loading this page with nbviewer.org.</b></div><div class=\"sk-container\" hidden><div class=\"sk-item\"><div class=\"sk-estimator sk-toggleable\"><input class=\"sk-toggleable__control sk-hidden--visually\" id=\"sk-estimator-id-4\" type=\"checkbox\" checked><label for=\"sk-estimator-id-4\" class=\"sk-toggleable__label sk-toggleable__label-arrow\">DecisionTreeRegressor</label><div class=\"sk-toggleable__content\"><pre>DecisionTreeRegressor()</pre></div></div></div></div></div>"
      ],
      "text/plain": [
       "DecisionTreeRegressor()"
      ]
     },
     "execution_count": 37,
     "metadata": {},
     "output_type": "execute_result"
    }
   ],
   "source": [
    "X_train, X_test, y_train, y_test = train_test_split(X, y)\n",
    "\n",
    "dt = DecisionTreeRegressor()\n",
    "\n",
    "dt.fit(X_train, y_train)"
   ]
  },
  {
   "cell_type": "code",
   "execution_count": 38,
   "id": "241b5c41-5ec5-4e6f-ab05-7f1fab858e74",
   "metadata": {},
   "outputs": [
    {
     "data": {
      "text/plain": [
       "1.0"
      ]
     },
     "execution_count": 38,
     "metadata": {},
     "output_type": "execute_result"
    }
   ],
   "source": [
    "dt.score(X_train, y_train)"
   ]
  },
  {
   "cell_type": "code",
   "execution_count": 39,
   "id": "df75bde5-a22e-4a0e-879e-94efc91de6eb",
   "metadata": {},
   "outputs": [
    {
     "data": {
      "text/plain": [
       "0.8067135643658865"
      ]
     },
     "execution_count": 39,
     "metadata": {},
     "output_type": "execute_result"
    }
   ],
   "source": [
    "dt.score(X_test, y_test)"
   ]
  },
  {
   "cell_type": "code",
   "execution_count": 40,
   "id": "a5ef3629-5c72-4500-bb83-bd7d3fcfb87e",
   "metadata": {},
   "outputs": [
    {
     "data": {
      "text/plain": [
       "3059.5057021020953"
      ]
     },
     "execution_count": 40,
     "metadata": {},
     "output_type": "execute_result"
    }
   ],
   "source": [
    "metrics.mean_squared_error(y, dt.predict(X), squared=False)"
   ]
  },
  {
   "cell_type": "markdown",
   "id": "44aa1cf1-a9c0-4ac2-9cb6-3ad184d205ce",
   "metadata": {},
   "source": [
    "### Random Forest on everything"
   ]
  },
  {
   "cell_type": "code",
   "execution_count": null,
   "id": "c5c3b63c-c4e3-4edd-a869-7057e893d8fc",
   "metadata": {},
   "outputs": [],
   "source": []
  }
 ],
 "metadata": {
  "kernelspec": {
   "display_name": "Python [conda env:dsi] *",
   "language": "python",
   "name": "conda-env-dsi-py"
  },
  "language_info": {
   "codemirror_mode": {
    "name": "ipython",
    "version": 3
   },
   "file_extension": ".py",
   "mimetype": "text/x-python",
   "name": "python",
   "nbconvert_exporter": "python",
   "pygments_lexer": "ipython3",
   "version": "3.8.13"
  }
 },
 "nbformat": 4,
 "nbformat_minor": 5
}
