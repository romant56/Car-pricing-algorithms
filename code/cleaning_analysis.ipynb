{
 "cells": [
  {
   "cell_type": "code",
   "execution_count": null,
   "id": "1cd5c42a-a5d3-4a35-9784-2161af21020a",
   "metadata": {},
   "outputs": [],
   "source": [
    "def get_price(line):\n",
    "    return int(line.get('price'))\n",
    "\n",
    "df['price'] = df['offers'].map(get_price)"
   ]
  }
 ],
 "metadata": {
  "kernelspec": {
   "display_name": "Python [conda env:dsi] *",
   "language": "python",
   "name": "conda-env-dsi-py"
  },
  "language_info": {
   "codemirror_mode": {
    "name": "ipython",
    "version": 3
   },
   "file_extension": ".py",
   "mimetype": "text/x-python",
   "name": "python",
   "nbconvert_exporter": "python",
   "pygments_lexer": "ipython3",
   "version": "3.8.13"
  }
 },
 "nbformat": 4,
 "nbformat_minor": 5
}
