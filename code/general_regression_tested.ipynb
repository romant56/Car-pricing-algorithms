{
 "cells": [
  {
   "cell_type": "code",
   "execution_count": 8,
   "id": "f116141b-16c1-4163-846a-b3591d291883",
   "metadata": {},
   "outputs": [],
   "source": [
    "import pandas as pd\n",
    "import numpy as np\n",
    "import matplotlib.pyplot as plt\n",
    "import seaborn as sns\n",
    "\n",
    "from sklearn.linear_model import LinearRegression\n",
    "from sklearn.tree import DecisionTreeRegressor\n",
    "from sklearn.ensemble import RandomForestRegressor\n",
    "from sklearn import metrics"
   ]
  },
  {
   "cell_type": "markdown",
   "id": "57a7f170-aa37-4e9c-9333-808801be6f06",
   "metadata": {},
   "source": [
    "### General linear regression on test data\n",
    "\n",
    "This entire section is a repeat of the initial 'general_regression' notebook.  But having a new testing set of 51 cars, it would have been a waste not to try again on a larger train set and much smaller testing set."
   ]
  },
  {
   "cell_type": "code",
   "execution_count": 9,
   "id": "44c67a7d-b689-467e-9273-13b406636a4c",
   "metadata": {},
   "outputs": [],
   "source": [
    "df = pd.read_csv('../data/cleaned.csv')\n",
    "test = pd.read_csv('../data/test_cleaned.csv')"
   ]
  },
  {
   "cell_type": "code",
   "execution_count": 18,
   "id": "ef677739-d572-462b-a3cc-f34243cea70b",
   "metadata": {},
   "outputs": [],
   "source": [
    "# from the specific models, we know that these two car models are not in our dataframe\n",
    "# dropping them ensure no astronomical values in our linear regression\n",
    "\n",
    "test = test[ (test['model'] != 'LR2') & (test['model'] != 'Sonata Plug-in Hybrid')]"
   ]
  },
  {
   "cell_type": "code",
   "execution_count": 19,
   "id": "d6c324d4-3e6d-47d5-91da-50e8fdeeedc7",
   "metadata": {},
   "outputs": [],
   "source": [
    "# attach the test dataframe to the cleaned dataframe in order to ensure all dummy categories match\n",
    "# then remove, fit on train data, and make predictions on test (temp_X)\n",
    "temp = pd.concat([df, test], ignore_index=True)\n",
    "dummies = pd.get_dummies(temp, columns=['manufacturer', 'model', 'trim', 'color'], drop_first=True)\n",
    "temp = dummies.tail(49)\n",
    "temp_X = temp.drop(columns=['name', 'price'])\n",
    "dummies = dummies.head(df.shape[0])\n",
    "X = dummies.drop(columns=['name', 'price'])\n",
    "y = dummies['price']\n",
    "lr = LinearRegression()\n",
    "lr.fit(X, y)\n",
    "pred = lr.predict(temp_X)"
   ]
  },
  {
   "cell_type": "code",
   "execution_count": 20,
   "id": "188064fa-6a41-4291-9732-802cbfa2986a",
   "metadata": {},
   "outputs": [],
   "source": [
    "test['prediction'] = pred"
   ]
  },
  {
   "cell_type": "code",
   "execution_count": 21,
   "id": "48592e62-b2ba-487d-94dd-ac13d818929b",
   "metadata": {},
   "outputs": [
    {
     "data": {
      "text/plain": [
       "2750.0142180276566"
      ]
     },
     "execution_count": 21,
     "metadata": {},
     "output_type": "execute_result"
    }
   ],
   "source": [
    "metrics.mean_squared_error(test['price'], test['prediction'], squared=False)"
   ]
  },
  {
   "cell_type": "code",
   "execution_count": 24,
   "id": "8d786152-df1e-440a-820d-1de681bebefb",
   "metadata": {},
   "outputs": [
    {
     "data": {
      "text/plain": [
       "0.9590749539400443"
      ]
     },
     "execution_count": 24,
     "metadata": {},
     "output_type": "execute_result"
    }
   ],
   "source": [
    "# r2 over training data\n",
    "lr.score(X, y)"
   ]
  },
  {
   "cell_type": "code",
   "execution_count": 23,
   "id": "40322203-fde5-4e96-a4e9-db37d2f5db55",
   "metadata": {},
   "outputs": [
    {
     "data": {
      "text/plain": [
       "0.9067626877164874"
      ]
     },
     "execution_count": 23,
     "metadata": {},
     "output_type": "execute_result"
    }
   ],
   "source": [
    "# r2 over test data\n",
    "lr.score(temp_X, test['price'])"
   ]
  },
  {
   "cell_type": "markdown",
   "id": "df5f6092-aaf0-45d9-9586-9748ec7a61a7",
   "metadata": {},
   "source": [
    "### General decision tree on test data"
   ]
  },
  {
   "cell_type": "code",
   "execution_count": 37,
   "id": "a5f0b88e-8f8d-4458-845a-52bfc17f97a9",
   "metadata": {},
   "outputs": [],
   "source": [
    "# same two models dropped, although the algorithm does work (just not nearly as well) with the two rogue cars\n",
    "df = pd.read_csv('../data/cleaned.csv')\n",
    "test = pd.read_csv('../data/test_cleaned.csv')\n",
    "test = test[ (test['model'] != 'LR2') & (test['model'] != 'Sonata Plug-in Hybrid')]"
   ]
  },
  {
   "cell_type": "code",
   "execution_count": 38,
   "id": "96ef3dd9-7412-4406-9eae-f1cd8cfaf9f5",
   "metadata": {},
   "outputs": [],
   "source": [
    "temp = pd.concat([df, test], ignore_index=True)\n",
    "dummies = pd.get_dummies(temp, columns=['manufacturer', 'model', 'trim', 'color'], drop_first=True)\n",
    "temp = dummies.tail(49) # or 51 if not dropping two cars\n",
    "temp_X = temp.drop(columns=['name', 'price'])\n",
    "dummies = dummies.head(df.shape[0])\n",
    "X = dummies.drop(columns=['name', 'price'])\n",
    "y = dummies['price']\n",
    "dt = DecisionTreeRegressor()\n",
    "dt.fit(X, y)\n",
    "pred = dt.predict(temp_X)"
   ]
  },
  {
   "cell_type": "code",
   "execution_count": 39,
   "id": "58117c39-83de-47ce-9538-b253e9918ab5",
   "metadata": {},
   "outputs": [],
   "source": [
    "test['prediction'] = pred"
   ]
  },
  {
   "cell_type": "code",
   "execution_count": 40,
   "id": "a7b51b21-095c-4fb4-b2ed-217a09fecfac",
   "metadata": {},
   "outputs": [
    {
     "data": {
      "text/plain": [
       "5250.850271282601"
      ]
     },
     "execution_count": 40,
     "metadata": {},
     "output_type": "execute_result"
    }
   ],
   "source": [
    "metrics.mean_squared_error(test['price'], test['prediction'], squared=False)"
   ]
  },
  {
   "cell_type": "code",
   "execution_count": 41,
   "id": "f9ecdbcf-a746-4b75-850d-2912107173c2",
   "metadata": {},
   "outputs": [
    {
     "data": {
      "text/plain": [
       "1.0"
      ]
     },
     "execution_count": 41,
     "metadata": {},
     "output_type": "execute_result"
    }
   ],
   "source": [
    "# r2 over training data\n",
    "dt.score(X, y)"
   ]
  },
  {
   "cell_type": "code",
   "execution_count": 42,
   "id": "2ea21653-b74a-46db-b4bb-1e74b4f57799",
   "metadata": {},
   "outputs": [
    {
     "data": {
      "text/plain": [
       "0.6600781072205841"
      ]
     },
     "execution_count": 42,
     "metadata": {},
     "output_type": "execute_result"
    }
   ],
   "source": [
    "# r2 over test data\n",
    "dt.score(temp_X, test['price'])"
   ]
  },
  {
   "cell_type": "markdown",
   "id": "c4f4b12f-6ac5-4260-8894-1c255efba233",
   "metadata": {},
   "source": [
    "### Random forest on test data"
   ]
  },
  {
   "cell_type": "code",
   "execution_count": 43,
   "id": "ed32c699-9b2e-45d6-8fd4-9ecefa419fc1",
   "metadata": {},
   "outputs": [],
   "source": [
    "df = pd.read_csv('../data/cleaned.csv')\n",
    "test = pd.read_csv('../data/test_cleaned.csv')\n",
    "test = test[ (test['model'] != 'LR2') & (test['model'] != 'Sonata Plug-in Hybrid')]"
   ]
  },
  {
   "cell_type": "code",
   "execution_count": 44,
   "id": "94234a72-2c27-45a1-8fc8-02af1be3b105",
   "metadata": {},
   "outputs": [],
   "source": [
    "temp = pd.concat([df, test], ignore_index=True)\n",
    "dummies = pd.get_dummies(temp, columns=['manufacturer', 'model', 'trim', 'color'], drop_first=True)\n",
    "temp = dummies.tail(49)\n",
    "temp_X = temp.drop(columns=['name', 'price'])\n",
    "dummies = dummies.head(df.shape[0])\n",
    "X = dummies.drop(columns=['name', 'price'])\n",
    "y = dummies['price']\n",
    "rf = RandomForestRegressor()\n",
    "rf.fit(X, y)\n",
    "pred = rf.predict(temp_X)"
   ]
  },
  {
   "cell_type": "code",
   "execution_count": 45,
   "id": "c1d64182-7b90-412d-b4e6-424a4cca7465",
   "metadata": {},
   "outputs": [],
   "source": [
    "test['prediction'] = pred"
   ]
  },
  {
   "cell_type": "code",
   "execution_count": 34,
   "id": "3f9ea77f-255b-4a69-acc8-2be75b26f2f8",
   "metadata": {},
   "outputs": [
    {
     "data": {
      "text/plain": [
       "3342.131436358528"
      ]
     },
     "execution_count": 34,
     "metadata": {},
     "output_type": "execute_result"
    }
   ],
   "source": [
    "metrics.mean_squared_error(test['price'], test['prediction'], squared=False)"
   ]
  },
  {
   "cell_type": "code",
   "execution_count": 35,
   "id": "aef187e5-4eda-4f9d-b297-faff72ca959e",
   "metadata": {},
   "outputs": [
    {
     "data": {
      "text/plain": [
       "0.985610713110797"
      ]
     },
     "execution_count": 35,
     "metadata": {},
     "output_type": "execute_result"
    }
   ],
   "source": [
    "# r2 over training data\n",
    "rf.score(X, y)"
   ]
  },
  {
   "cell_type": "code",
   "execution_count": 36,
   "id": "901ba5c7-46cf-46cb-95e9-01cf1112faf7",
   "metadata": {},
   "outputs": [
    {
     "data": {
      "text/plain": [
       "0.8622895434056617"
      ]
     },
     "execution_count": 36,
     "metadata": {},
     "output_type": "execute_result"
    }
   ],
   "source": [
    "# r2 over test data\n",
    "rf.score(temp_X, test['price'])"
   ]
  },
  {
   "cell_type": "code",
   "execution_count": null,
   "id": "0d17a5fc-de8c-4d1a-90d6-5084f92482e7",
   "metadata": {},
   "outputs": [],
   "source": []
  }
 ],
 "metadata": {
  "kernelspec": {
   "display_name": "Python [conda env:dsi] *",
   "language": "python",
   "name": "conda-env-dsi-py"
  },
  "language_info": {
   "codemirror_mode": {
    "name": "ipython",
    "version": 3
   },
   "file_extension": ".py",
   "mimetype": "text/x-python",
   "name": "python",
   "nbconvert_exporter": "python",
   "pygments_lexer": "ipython3",
   "version": "3.8.13"
  }
 },
 "nbformat": 4,
 "nbformat_minor": 5
}
