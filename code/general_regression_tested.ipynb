{
 "cells": [
  {
   "cell_type": "code",
   "execution_count": 1,
   "id": "f116141b-16c1-4163-846a-b3591d291883",
   "metadata": {},
   "outputs": [],
   "source": [
    "import pandas as pd\n",
    "import numpy as np\n",
    "import matplotlib.pyplot as plt\n",
    "import seaborn as sns\n",
    "\n",
    "from sklearn.linear_model import LinearRegression\n",
    "from sklearn.tree import DecisionTreeRegressor\n",
    "from sklearn.ensemble import RandomForestRegressor\n",
    "from sklearn import metrics"
   ]
  },
  {
   "cell_type": "markdown",
   "id": "57a7f170-aa37-4e9c-9333-808801be6f06",
   "metadata": {},
   "source": [
    "### General linear regression on test data"
   ]
  },
  {
   "cell_type": "code",
   "execution_count": 56,
   "id": "44c67a7d-b689-467e-9273-13b406636a4c",
   "metadata": {},
   "outputs": [],
   "source": [
    "df = pd.read_csv('../data/cleaned.csv')\n",
    "test = pd.read_csv('../data/test_cleaned.csv')"
   ]
  },
  {
   "cell_type": "code",
   "execution_count": 57,
   "id": "ef677739-d572-462b-a3cc-f34243cea70b",
   "metadata": {},
   "outputs": [],
   "source": [
    "test = test[ (test['model'] != 'LR2') & (test['model'] != 'Sonata Plug-in Hybrid')]"
   ]
  },
  {
   "cell_type": "code",
   "execution_count": 58,
   "id": "d6c324d4-3e6d-47d5-91da-50e8fdeeedc7",
   "metadata": {},
   "outputs": [],
   "source": [
    "# perhaps add a model_list again and exclude the two cars that are not in the model_list?\n",
    "\n",
    "\n",
    "temp = pd.concat([df, test], ignore_index=True)\n",
    "dummies = pd.get_dummies(temp, columns=['manufacturer', 'model', 'trim', 'color'], drop_first=True)\n",
    "temp = dummies.tail(49)\n",
    "temp_X = temp.drop(columns=['name', 'price'])\n",
    "dummies = dummies.head(df.shape[0])\n",
    "X = dummies.drop(columns=['name', 'price'])\n",
    "y = dummies['price']\n",
    "lr = LinearRegression()\n",
    "lr.fit(X, y)\n",
    "pred = lr.predict(temp_X)"
   ]
  },
  {
   "cell_type": "code",
   "execution_count": 59,
   "id": "188064fa-6a41-4291-9732-802cbfa2986a",
   "metadata": {},
   "outputs": [],
   "source": [
    "test['prediction'] = pred"
   ]
  },
  {
   "cell_type": "code",
   "execution_count": 60,
   "id": "48592e62-b2ba-487d-94dd-ac13d818929b",
   "metadata": {},
   "outputs": [
    {
     "data": {
      "text/plain": [
       "2750.0142180276566"
      ]
     },
     "execution_count": 60,
     "metadata": {},
     "output_type": "execute_result"
    }
   ],
   "source": [
    "metrics.mean_squared_error(test['price'], test['prediction'], squared=False)"
   ]
  },
  {
   "cell_type": "code",
   "execution_count": 61,
   "id": "40322203-fde5-4e96-a4e9-db37d2f5db55",
   "metadata": {},
   "outputs": [
    {
     "data": {
      "text/plain": [
       "0.9590749539400443"
      ]
     },
     "execution_count": 61,
     "metadata": {},
     "output_type": "execute_result"
    }
   ],
   "source": [
    "lr.score(X, y)"
   ]
  },
  {
   "cell_type": "markdown",
   "id": "df5f6092-aaf0-45d9-9586-9748ec7a61a7",
   "metadata": {},
   "source": [
    "### General decision tree on test data"
   ]
  },
  {
   "cell_type": "code",
   "execution_count": null,
   "id": "a5f0b88e-8f8d-4458-845a-52bfc17f97a9",
   "metadata": {},
   "outputs": [],
   "source": []
  }
 ],
 "metadata": {
  "kernelspec": {
   "display_name": "Python [conda env:dsi] *",
   "language": "python",
   "name": "conda-env-dsi-py"
  },
  "language_info": {
   "codemirror_mode": {
    "name": "ipython",
    "version": 3
   },
   "file_extension": ".py",
   "mimetype": "text/x-python",
   "name": "python",
   "nbconvert_exporter": "python",
   "pygments_lexer": "ipython3",
   "version": "3.8.13"
  }
 },
 "nbformat": 4,
 "nbformat_minor": 5
}
